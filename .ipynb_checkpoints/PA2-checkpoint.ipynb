{
 "cells": [
  {
   "cell_type": "markdown",
   "metadata": {},
   "source": [
    "# Programming Assignment 2\n",
    "---\n",
    "**Author:** Dylan Tulett  \n",
    "**Version:** 1.0  \n",
    "**Semester:** Fall 2020  \n",
    "\n",
    "This *notebook* contains my solution to **Programming Assignment 2**\n",
    "\n",
    "- Problem 1: Using a for statement and the range function, create a list of numbers 1-100 and put an asterisk beside ny that are multiples of 3 (not 0 and 3)\n",
    "\n",
    "- Problem 2: Using a loop, prompt the user for their age input. inputting 0 will terminate the loop. The age will be evaluated (minor, adult, senior).\n",
    "\n",
    "- Problem 3: Rewrite code from problem 2 so that the ages come from a list of numbers and print in a list. Also include the ages in the output."
   ]
  },
  {
   "cell_type": "code",
   "execution_count": null,
   "metadata": {},
   "outputs": [],
   "source": [
    "#problem 1\n",
    "for num1 in range(101):\n",
    "    if num1 % 3 == 0 and num1 != 3 and num1 != 0:\n",
    "        print(f\"{num1}*\")\n",
    "    else:\n",
    "        print(num1)\n",
    "    "
   ]
  },
  {
   "cell_type": "code",
   "execution_count": 7,
   "metadata": {},
   "outputs": [
    {
     "name": "stdout",
     "output_type": "stream",
     "text": [
      "What is the subject's age? 9\n",
      "Minor\n",
      "What is the subject's age? 69\n",
      "Senior Citizen\n",
      "What is the subject's age? 56\n",
      "Adult\n",
      "What is the subject's age? 0\n",
      "\n"
     ]
    }
   ],
   "source": [
    "#problem 2\n",
    "#initiation statement\n",
    "age2 = 1\n",
    "\n",
    "#determine catagory age falls into\n",
    "while age2 != 0:\n",
    "    age2 = int(input(\"What is the subject's age? \"))\n",
    "    if (age2 > 0) and (age2 < 18) and age2 != 0:\n",
    "        print(\"Minor\")\n",
    "    elif (age2 >= 18) and (age2 <64):\n",
    "        print(\"Adult\")\n",
    "    elif (age2 >= 64):\n",
    "        print(\"Senior Citizen\")\n",
    "    elif (age2 == 0):\n",
    "        print(\"\")\n",
    "    else:\n",
    "        print(\"Error\")"
   ]
  },
  {
   "cell_type": "code",
   "execution_count": 6,
   "metadata": {},
   "outputs": [
    {
     "name": "stdout",
     "output_type": "stream",
     "text": [
      "65 : Senior Citizen\n",
      "78 : Senior Citizen\n",
      "34 : Adult\n",
      "56 : Adult\n",
      "12 : Minor\n",
      "9 : Minor\n",
      "43 : Adult\n",
      "67 : Senior Citizen\n"
     ]
    }
   ],
   "source": [
    "#problem 3\n",
    "\n",
    "#determine age-groups of listed numbers and print using a loop.\n",
    "for num3 in [65,78,34,56,12,9,43,67]:\n",
    "    if (num3 < 18) and (num3 > 0):\n",
    "        print(f\"{num3} : Minor\")\n",
    "    elif (num3 >= 18) and (num3 < 64):\n",
    "        print(f\"{num3} : Adult\")\n",
    "    elif (num3 >= 64):\n",
    "        print(f\"{num3} : Senior Citizen\")\n",
    "    else:\n",
    "        print(\"Error\")\n",
    "        "
   ]
  },
  {
   "cell_type": "code",
   "execution_count": null,
   "metadata": {},
   "outputs": [],
   "source": []
  }
 ],
 "metadata": {
  "kernelspec": {
   "display_name": "Python 3",
   "language": "python",
   "name": "python3"
  },
  "language_info": {
   "codemirror_mode": {
    "name": "ipython",
    "version": 3
   },
   "file_extension": ".py",
   "mimetype": "text/x-python",
   "name": "python",
   "nbconvert_exporter": "python",
   "pygments_lexer": "ipython3",
   "version": "3.8.3"
  }
 },
 "nbformat": 4,
 "nbformat_minor": 4
}
